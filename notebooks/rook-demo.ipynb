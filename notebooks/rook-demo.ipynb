{
 "cells": [
  {
   "cell_type": "markdown",
   "metadata": {},
   "source": [
    "### Use Birdy to access WPS"
   ]
  },
  {
   "cell_type": "code",
   "execution_count": null,
   "metadata": {},
   "outputs": [],
   "source": [
    "from birdy import WPSClient\n",
    "url = 'http://localhost:5000/wps'\n",
    "rooki = WPSClient(url)"
   ]
  },
  {
   "cell_type": "markdown",
   "metadata": {},
   "source": [
    "### Available processes"
   ]
  },
  {
   "cell_type": "code",
   "execution_count": null,
   "metadata": {},
   "outputs": [],
   "source": [
    "rooki?"
   ]
  },
  {
   "cell_type": "markdown",
   "metadata": {},
   "source": [
    "### Run subset"
   ]
  },
  {
   "cell_type": "code",
   "execution_count": null,
   "metadata": {},
   "outputs": [],
   "source": [
    "rooki.subset?"
   ]
  },
  {
   "cell_type": "code",
   "execution_count": null,
   "metadata": {},
   "outputs": [],
   "source": [
    "resp_subset = rooki.subset(\n",
    "    data_ref='cmip5.output1.MOHC.HadGEM2-ES.rcp85.mon.atmos.Amon.r1i1p1.latest.tas',\n",
    "    time='2085-01-01/2120-12-30',\n",
    ")"
   ]
  },
  {
   "cell_type": "code",
   "execution_count": null,
   "metadata": {},
   "outputs": [],
   "source": [
    "resp_subset.get()"
   ]
  },
  {
   "cell_type": "markdown",
   "metadata": {},
   "source": [
    "### metalink output"
   ]
  },
  {
   "cell_type": "code",
   "execution_count": null,
   "metadata": {},
   "outputs": [],
   "source": [
    "resp_subset.get(asobj=True)[1]"
   ]
  },
  {
   "cell_type": "markdown",
   "metadata": {},
   "source": [
    "### Run average"
   ]
  },
  {
   "cell_type": "code",
   "execution_count": null,
   "metadata": {},
   "outputs": [],
   "source": [
    "rooki.average?"
   ]
  },
  {
   "cell_type": "markdown",
   "metadata": {},
   "source": [
    "### Run orchestrate workflow"
   ]
  },
  {
   "cell_type": "code",
   "execution_count": null,
   "metadata": {},
   "outputs": [],
   "source": [
    "rooki.orchestrate?"
   ]
  },
  {
   "cell_type": "markdown",
   "metadata": {},
   "source": [
    "**Workflow with subset and average**"
   ]
  },
  {
   "cell_type": "code",
   "execution_count": null,
   "metadata": {},
   "outputs": [],
   "source": [
    "wf_tree = {\n",
    "    'doc': \"tree workflow\",\n",
    "    'inputs': {\n",
    "        'tas': ['cmip5.output1.MOHC.HadGEM2-ES.rcp85.mon.atmos.Amon.r1i1p1.latest.tas'],\n",
    "    },\n",
    "    \"outputs\": {\n",
    "          \"output\": \"average_tas/output\"\n",
    "      },\n",
    "    'steps': {\n",
    "        \"subset_tas_1\": {\n",
    "              \"run\": \"subset\",\n",
    "              \"in\": {\n",
    "                  \"data_ref\": \"inputs/tas\",\n",
    "                  \"time\": \"2085-01-01/2120-12-30\"\n",
    "              }\n",
    "          },\n",
    "          \"subset_tas_2\": {\n",
    "              \"run\": \"subset\",\n",
    "              \"in\": {\n",
    "                  \"data_ref\": \"subset_tas_1/output\",\n",
    "                  \"time\": \"2090-01-01/2100-12-30\"\n",
    "              }\n",
    "          },\n",
    "          \"average_tas\": {\n",
    "              \"run\": \"average\",\n",
    "              \"in\": {\n",
    "                  \"data_ref\": \"subset_tas_2/output\",\n",
    "                  \"axes\": \"time\"\n",
    "              }\n",
    "          }\n",
    "    }}"
   ]
  },
  {
   "cell_type": "code",
   "execution_count": null,
   "metadata": {},
   "outputs": [],
   "source": [
    "import json\n",
    "wf_tree_json = json.dumps(wf_tree)\n",
    "wf_tree_json"
   ]
  },
  {
   "cell_type": "code",
   "execution_count": null,
   "metadata": {},
   "outputs": [],
   "source": [
    "resp_wf = rooki.orchestrate(workflow=wf_tree_json)"
   ]
  },
  {
   "cell_type": "code",
   "execution_count": null,
   "metadata": {},
   "outputs": [],
   "source": [
    "resp_wf.get()"
   ]
  },
  {
   "cell_type": "markdown",
   "metadata": {},
   "source": [
    "**Workflow with diff operator (multiple inputs)**"
   ]
  },
  {
   "cell_type": "code",
   "execution_count": null,
   "metadata": {},
   "outputs": [],
   "source": [
    "wf_tree = {\n",
    "    'doc': \"tree workflow with diff operator\",\n",
    "    'inputs': {\n",
    "        'inm': ['cmip5.output1.INM.inmcm4.rcp45.mon.ocean.Omon.r1i1p1.latest.zostoga'],\n",
    "        'mpi': ['cmip5.output1.MPI-M.MPI-ESM-LR.rcp45.mon.ocean.Omon.r1i1p1.latest.zostoga']\n",
    "    },\n",
    "    \"outputs\": {\n",
    "          \"output\": \"diff/output\"\n",
    "      },\n",
    "    'steps': {\n",
    "        \"subsetA\": {\n",
    "              \"run\": \"subset\",\n",
    "              \"in\": {\n",
    "                  \"data_ref\": \"inputs/inm\",\n",
    "                  \"time\": \"2085-01-01/2120-12-30\"\n",
    "              }\n",
    "          },\n",
    "          \"subsetB\": {\n",
    "              \"run\": \"subset\",\n",
    "              \"in\": {\n",
    "                  \"data_ref\": \"inputs/mpi\",\n",
    "                  \"time\": \"2085-01-01/2120-12-30\"\n",
    "              }\n",
    "          },\n",
    "          \"diff\": {\n",
    "              \"run\": \"diff\",\n",
    "              \"in\": {\n",
    "                  \"data_ref_a\": \"subsetA/output\",\n",
    "                  \"data_ref_b\": \"subsetB/output\",\n",
    "              }\n",
    "          }\n",
    "    }}"
   ]
  },
  {
   "cell_type": "code",
   "execution_count": null,
   "metadata": {},
   "outputs": [],
   "source": [
    "wf_tree_json = json.dumps(wf_tree)\n",
    "wf_tree_json"
   ]
  },
  {
   "cell_type": "code",
   "execution_count": null,
   "metadata": {},
   "outputs": [],
   "source": [
    "resp_wf = rooki.orchestrate(workflow=wf_tree_json)"
   ]
  },
  {
   "cell_type": "code",
   "execution_count": null,
   "metadata": {},
   "outputs": [],
   "source": [
    "resp_wf.get()"
   ]
  }
 ],
 "metadata": {
  "kernelspec": {
   "display_name": "Python 3",
   "language": "python",
   "name": "python3"
  },
  "language_info": {
   "codemirror_mode": {
    "name": "ipython",
    "version": 3
   },
   "file_extension": ".py",
   "mimetype": "text/x-python",
   "name": "python",
   "nbconvert_exporter": "python",
   "pygments_lexer": "ipython3",
   "version": "3.7.8"
  }
 },
 "nbformat": 4,
 "nbformat_minor": 4
}
